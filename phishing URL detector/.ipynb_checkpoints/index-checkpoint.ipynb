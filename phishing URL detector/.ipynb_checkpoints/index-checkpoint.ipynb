{
 "cells": [
  {
   "cell_type": "code",
   "execution_count": 44,
   "id": "9e2007ae",
   "metadata": {},
   "outputs": [],
   "source": [
    "import pandas as pd\n",
    "from matplotlib import pyplot as plt\n",
    "import numpy as np\n",
    "%matplotlib inline\n",
    "import os\n",
    "import datetime\n",
    "import tensorflow as tf"
   ]
  },
  {
   "cell_type": "code",
   "execution_count": 45,
   "id": "af100e97",
   "metadata": {
    "scrolled": false
   },
   "outputs": [
    {
     "data": {
      "text/html": [
       "<div>\n",
       "<style scoped>\n",
       "    .dataframe tbody tr th:only-of-type {\n",
       "        vertical-align: middle;\n",
       "    }\n",
       "\n",
       "    .dataframe tbody tr th {\n",
       "        vertical-align: top;\n",
       "    }\n",
       "\n",
       "    .dataframe thead th {\n",
       "        text-align: right;\n",
       "    }\n",
       "</style>\n",
       "<table border=\"1\" class=\"dataframe\">\n",
       "  <thead>\n",
       "    <tr style=\"text-align: right;\">\n",
       "      <th></th>\n",
       "      <th>whois_regDate</th>\n",
       "      <th>whois_expDate</th>\n",
       "      <th>whois_updatedDate</th>\n",
       "      <th>dot_count</th>\n",
       "      <th>url_len</th>\n",
       "      <th>digit_count</th>\n",
       "      <th>special_count</th>\n",
       "      <th>hyphen_count</th>\n",
       "      <th>double_slash</th>\n",
       "      <th>single_slash</th>\n",
       "      <th>at_the_rate</th>\n",
       "      <th>protocol</th>\n",
       "      <th>protocol_count</th>\n",
       "      <th>web_traffic</th>\n",
       "      <th>label</th>\n",
       "    </tr>\n",
       "  </thead>\n",
       "  <tbody>\n",
       "    <tr>\n",
       "      <th>0</th>\n",
       "      <td>8451</td>\n",
       "      <td>2870</td>\n",
       "      <td>422</td>\n",
       "      <td>1</td>\n",
       "      <td>10</td>\n",
       "      <td>0</td>\n",
       "      <td>0</td>\n",
       "      <td>0</td>\n",
       "      <td>0</td>\n",
       "      <td>0</td>\n",
       "      <td>0</td>\n",
       "      <td>0</td>\n",
       "      <td>0</td>\n",
       "      <td>0</td>\n",
       "      <td>1</td>\n",
       "    </tr>\n",
       "    <tr>\n",
       "      <th>1</th>\n",
       "      <td>5741</td>\n",
       "      <td>102</td>\n",
       "      <td>295</td>\n",
       "      <td>1</td>\n",
       "      <td>11</td>\n",
       "      <td>0</td>\n",
       "      <td>0</td>\n",
       "      <td>0</td>\n",
       "      <td>0</td>\n",
       "      <td>0</td>\n",
       "      <td>0</td>\n",
       "      <td>0</td>\n",
       "      <td>0</td>\n",
       "      <td>0</td>\n",
       "      <td>1</td>\n",
       "    </tr>\n",
       "    <tr>\n",
       "      <th>2</th>\n",
       "      <td>8419</td>\n",
       "      <td>345</td>\n",
       "      <td>720</td>\n",
       "      <td>1</td>\n",
       "      <td>9</td>\n",
       "      <td>0</td>\n",
       "      <td>0</td>\n",
       "      <td>0</td>\n",
       "      <td>0</td>\n",
       "      <td>0</td>\n",
       "      <td>0</td>\n",
       "      <td>0</td>\n",
       "      <td>0</td>\n",
       "      <td>0</td>\n",
       "      <td>1</td>\n",
       "    </tr>\n",
       "    <tr>\n",
       "      <th>3</th>\n",
       "      <td>7695</td>\n",
       "      <td>2166</td>\n",
       "      <td>545</td>\n",
       "      <td>1</td>\n",
       "      <td>9</td>\n",
       "      <td>0</td>\n",
       "      <td>0</td>\n",
       "      <td>0</td>\n",
       "      <td>0</td>\n",
       "      <td>0</td>\n",
       "      <td>0</td>\n",
       "      <td>0</td>\n",
       "      <td>0</td>\n",
       "      <td>0</td>\n",
       "      <td>1</td>\n",
       "    </tr>\n",
       "    <tr>\n",
       "      <th>4</th>\n",
       "      <td>9316</td>\n",
       "      <td>2455</td>\n",
       "      <td>6</td>\n",
       "      <td>1</td>\n",
       "      <td>6</td>\n",
       "      <td>0</td>\n",
       "      <td>0</td>\n",
       "      <td>0</td>\n",
       "      <td>0</td>\n",
       "      <td>0</td>\n",
       "      <td>0</td>\n",
       "      <td>0</td>\n",
       "      <td>0</td>\n",
       "      <td>0</td>\n",
       "      <td>1</td>\n",
       "    </tr>\n",
       "    <tr>\n",
       "      <th>...</th>\n",
       "      <td>...</td>\n",
       "      <td>...</td>\n",
       "      <td>...</td>\n",
       "      <td>...</td>\n",
       "      <td>...</td>\n",
       "      <td>...</td>\n",
       "      <td>...</td>\n",
       "      <td>...</td>\n",
       "      <td>...</td>\n",
       "      <td>...</td>\n",
       "      <td>...</td>\n",
       "      <td>...</td>\n",
       "      <td>...</td>\n",
       "      <td>...</td>\n",
       "      <td>...</td>\n",
       "    </tr>\n",
       "    <tr>\n",
       "      <th>10995</th>\n",
       "      <td>-1</td>\n",
       "      <td>-1</td>\n",
       "      <td>-1</td>\n",
       "      <td>4</td>\n",
       "      <td>77</td>\n",
       "      <td>9</td>\n",
       "      <td>0</td>\n",
       "      <td>2</td>\n",
       "      <td>1</td>\n",
       "      <td>2</td>\n",
       "      <td>0</td>\n",
       "      <td>0</td>\n",
       "      <td>1</td>\n",
       "      <td>1</td>\n",
       "      <td>0</td>\n",
       "    </tr>\n",
       "    <tr>\n",
       "      <th>10996</th>\n",
       "      <td>282</td>\n",
       "      <td>83</td>\n",
       "      <td>99</td>\n",
       "      <td>2</td>\n",
       "      <td>40</td>\n",
       "      <td>6</td>\n",
       "      <td>0</td>\n",
       "      <td>0</td>\n",
       "      <td>1</td>\n",
       "      <td>2</td>\n",
       "      <td>0</td>\n",
       "      <td>0</td>\n",
       "      <td>1</td>\n",
       "      <td>1</td>\n",
       "      <td>0</td>\n",
       "    </tr>\n",
       "    <tr>\n",
       "      <th>10997</th>\n",
       "      <td>222</td>\n",
       "      <td>142</td>\n",
       "      <td>222</td>\n",
       "      <td>2</td>\n",
       "      <td>40</td>\n",
       "      <td>0</td>\n",
       "      <td>0</td>\n",
       "      <td>0</td>\n",
       "      <td>1</td>\n",
       "      <td>4</td>\n",
       "      <td>0</td>\n",
       "      <td>0</td>\n",
       "      <td>1</td>\n",
       "      <td>1</td>\n",
       "      <td>0</td>\n",
       "    </tr>\n",
       "    <tr>\n",
       "      <th>10998</th>\n",
       "      <td>144</td>\n",
       "      <td>220</td>\n",
       "      <td>139</td>\n",
       "      <td>3</td>\n",
       "      <td>177</td>\n",
       "      <td>18</td>\n",
       "      <td>22</td>\n",
       "      <td>2</td>\n",
       "      <td>1</td>\n",
       "      <td>4</td>\n",
       "      <td>0</td>\n",
       "      <td>0</td>\n",
       "      <td>1</td>\n",
       "      <td>1</td>\n",
       "      <td>0</td>\n",
       "    </tr>\n",
       "    <tr>\n",
       "      <th>10999</th>\n",
       "      <td>2412</td>\n",
       "      <td>144</td>\n",
       "      <td>223</td>\n",
       "      <td>1</td>\n",
       "      <td>25</td>\n",
       "      <td>0</td>\n",
       "      <td>0</td>\n",
       "      <td>0</td>\n",
       "      <td>1</td>\n",
       "      <td>3</td>\n",
       "      <td>0</td>\n",
       "      <td>0</td>\n",
       "      <td>1</td>\n",
       "      <td>1</td>\n",
       "      <td>0</td>\n",
       "    </tr>\n",
       "  </tbody>\n",
       "</table>\n",
       "<p>11000 rows × 15 columns</p>\n",
       "</div>"
      ],
      "text/plain": [
       "       whois_regDate  whois_expDate  whois_updatedDate  dot_count  url_len  \\\n",
       "0               8451           2870                422          1       10   \n",
       "1               5741            102                295          1       11   \n",
       "2               8419            345                720          1        9   \n",
       "3               7695           2166                545          1        9   \n",
       "4               9316           2455                  6          1        6   \n",
       "...              ...            ...                ...        ...      ...   \n",
       "10995             -1             -1                 -1          4       77   \n",
       "10996            282             83                 99          2       40   \n",
       "10997            222            142                222          2       40   \n",
       "10998            144            220                139          3      177   \n",
       "10999           2412            144                223          1       25   \n",
       "\n",
       "       digit_count  special_count  hyphen_count  double_slash  single_slash  \\\n",
       "0                0              0             0             0             0   \n",
       "1                0              0             0             0             0   \n",
       "2                0              0             0             0             0   \n",
       "3                0              0             0             0             0   \n",
       "4                0              0             0             0             0   \n",
       "...            ...            ...           ...           ...           ...   \n",
       "10995            9              0             2             1             2   \n",
       "10996            6              0             0             1             2   \n",
       "10997            0              0             0             1             4   \n",
       "10998           18             22             2             1             4   \n",
       "10999            0              0             0             1             3   \n",
       "\n",
       "       at_the_rate  protocol  protocol_count  web_traffic  label  \n",
       "0                0         0               0            0      1  \n",
       "1                0         0               0            0      1  \n",
       "2                0         0               0            0      1  \n",
       "3                0         0               0            0      1  \n",
       "4                0         0               0            0      1  \n",
       "...            ...       ...             ...          ...    ...  \n",
       "10995            0         0               1            1      0  \n",
       "10996            0         0               1            1      0  \n",
       "10997            0         0               1            1      0  \n",
       "10998            0         0               1            1      0  \n",
       "10999            0         0               1            1      0  \n",
       "\n",
       "[11000 rows x 15 columns]"
      ]
     },
     "execution_count": 45,
     "metadata": {},
     "output_type": "execute_result"
    }
   ],
   "source": [
    "df = pd.read_csv('Datasets/Dataset2.csv')\n",
    "df"
   ]
  },
  {
   "cell_type": "code",
   "execution_count": 46,
   "id": "b0370cdb",
   "metadata": {},
   "outputs": [
    {
     "data": {
      "text/plain": [
       "dot_count         int64\n",
       "url_len           int64\n",
       "digit_count       int64\n",
       "special_count     int64\n",
       "hyphen_count      int64\n",
       "double_slash      int64\n",
       "single_slash      int64\n",
       "at_the_rate       int64\n",
       "protocol          int64\n",
       "protocol_count    int64\n",
       "web_traffic       int64\n",
       "label             int64\n",
       "dtype: object"
      ]
     },
     "execution_count": 46,
     "metadata": {},
     "output_type": "execute_result"
    }
   ],
   "source": [
    "df.drop('whois_regDate',axis='columns',inplace=True)\n",
    "df.drop('whois_expDate',axis='columns',inplace=True)\n",
    "df.drop('whois_updatedDate',axis='columns',inplace=True)\n",
    "df.dtypes"
   ]
  },
  {
   "cell_type": "code",
   "execution_count": 47,
   "id": "e42471eb",
   "metadata": {},
   "outputs": [
    {
     "data": {
      "text/plain": [
       "array([1, 1, 1, ..., 2, 3, 1], dtype=int64)"
      ]
     },
     "execution_count": 47,
     "metadata": {},
     "output_type": "execute_result"
    }
   ],
   "source": [
    "df.dot_count.values"
   ]
  },
  {
   "cell_type": "code",
   "execution_count": 48,
   "id": "3abd65db",
   "metadata": {},
   "outputs": [
    {
     "data": {
      "text/plain": [
       "0         0\n",
       "1         0\n",
       "2         0\n",
       "3         0\n",
       "4         0\n",
       "         ..\n",
       "10995     0\n",
       "10996     0\n",
       "10997     0\n",
       "10998    22\n",
       "10999     0\n",
       "Name: special_count, Length: 11000, dtype: int64"
      ]
     },
     "execution_count": 48,
     "metadata": {},
     "output_type": "execute_result"
    }
   ],
   "source": [
    "pd.to_numeric(df.special_count)"
   ]
  },
  {
   "cell_type": "code",
   "execution_count": 49,
   "id": "ebbb14d4",
   "metadata": {},
   "outputs": [
    {
     "data": {
      "text/html": [
       "<div>\n",
       "<style scoped>\n",
       "    .dataframe tbody tr th:only-of-type {\n",
       "        vertical-align: middle;\n",
       "    }\n",
       "\n",
       "    .dataframe tbody tr th {\n",
       "        vertical-align: top;\n",
       "    }\n",
       "\n",
       "    .dataframe thead th {\n",
       "        text-align: right;\n",
       "    }\n",
       "</style>\n",
       "<table border=\"1\" class=\"dataframe\">\n",
       "  <thead>\n",
       "    <tr style=\"text-align: right;\">\n",
       "      <th></th>\n",
       "      <th>dot_count</th>\n",
       "      <th>url_len</th>\n",
       "      <th>digit_count</th>\n",
       "      <th>special_count</th>\n",
       "      <th>hyphen_count</th>\n",
       "      <th>double_slash</th>\n",
       "      <th>single_slash</th>\n",
       "      <th>at_the_rate</th>\n",
       "      <th>protocol</th>\n",
       "      <th>protocol_count</th>\n",
       "      <th>web_traffic</th>\n",
       "      <th>label</th>\n",
       "    </tr>\n",
       "  </thead>\n",
       "  <tbody>\n",
       "    <tr>\n",
       "      <th>0</th>\n",
       "      <td>False</td>\n",
       "      <td>False</td>\n",
       "      <td>False</td>\n",
       "      <td>False</td>\n",
       "      <td>False</td>\n",
       "      <td>False</td>\n",
       "      <td>False</td>\n",
       "      <td>False</td>\n",
       "      <td>False</td>\n",
       "      <td>False</td>\n",
       "      <td>False</td>\n",
       "      <td>False</td>\n",
       "    </tr>\n",
       "    <tr>\n",
       "      <th>1</th>\n",
       "      <td>False</td>\n",
       "      <td>False</td>\n",
       "      <td>False</td>\n",
       "      <td>False</td>\n",
       "      <td>False</td>\n",
       "      <td>False</td>\n",
       "      <td>False</td>\n",
       "      <td>False</td>\n",
       "      <td>False</td>\n",
       "      <td>False</td>\n",
       "      <td>False</td>\n",
       "      <td>False</td>\n",
       "    </tr>\n",
       "    <tr>\n",
       "      <th>2</th>\n",
       "      <td>False</td>\n",
       "      <td>False</td>\n",
       "      <td>False</td>\n",
       "      <td>False</td>\n",
       "      <td>False</td>\n",
       "      <td>False</td>\n",
       "      <td>False</td>\n",
       "      <td>False</td>\n",
       "      <td>False</td>\n",
       "      <td>False</td>\n",
       "      <td>False</td>\n",
       "      <td>False</td>\n",
       "    </tr>\n",
       "    <tr>\n",
       "      <th>3</th>\n",
       "      <td>False</td>\n",
       "      <td>False</td>\n",
       "      <td>False</td>\n",
       "      <td>False</td>\n",
       "      <td>False</td>\n",
       "      <td>False</td>\n",
       "      <td>False</td>\n",
       "      <td>False</td>\n",
       "      <td>False</td>\n",
       "      <td>False</td>\n",
       "      <td>False</td>\n",
       "      <td>False</td>\n",
       "    </tr>\n",
       "    <tr>\n",
       "      <th>4</th>\n",
       "      <td>False</td>\n",
       "      <td>False</td>\n",
       "      <td>False</td>\n",
       "      <td>False</td>\n",
       "      <td>False</td>\n",
       "      <td>False</td>\n",
       "      <td>False</td>\n",
       "      <td>False</td>\n",
       "      <td>False</td>\n",
       "      <td>False</td>\n",
       "      <td>False</td>\n",
       "      <td>False</td>\n",
       "    </tr>\n",
       "    <tr>\n",
       "      <th>...</th>\n",
       "      <td>...</td>\n",
       "      <td>...</td>\n",
       "      <td>...</td>\n",
       "      <td>...</td>\n",
       "      <td>...</td>\n",
       "      <td>...</td>\n",
       "      <td>...</td>\n",
       "      <td>...</td>\n",
       "      <td>...</td>\n",
       "      <td>...</td>\n",
       "      <td>...</td>\n",
       "      <td>...</td>\n",
       "    </tr>\n",
       "    <tr>\n",
       "      <th>10995</th>\n",
       "      <td>False</td>\n",
       "      <td>False</td>\n",
       "      <td>False</td>\n",
       "      <td>False</td>\n",
       "      <td>False</td>\n",
       "      <td>False</td>\n",
       "      <td>False</td>\n",
       "      <td>False</td>\n",
       "      <td>False</td>\n",
       "      <td>False</td>\n",
       "      <td>False</td>\n",
       "      <td>False</td>\n",
       "    </tr>\n",
       "    <tr>\n",
       "      <th>10996</th>\n",
       "      <td>False</td>\n",
       "      <td>False</td>\n",
       "      <td>False</td>\n",
       "      <td>False</td>\n",
       "      <td>False</td>\n",
       "      <td>False</td>\n",
       "      <td>False</td>\n",
       "      <td>False</td>\n",
       "      <td>False</td>\n",
       "      <td>False</td>\n",
       "      <td>False</td>\n",
       "      <td>False</td>\n",
       "    </tr>\n",
       "    <tr>\n",
       "      <th>10997</th>\n",
       "      <td>False</td>\n",
       "      <td>False</td>\n",
       "      <td>False</td>\n",
       "      <td>False</td>\n",
       "      <td>False</td>\n",
       "      <td>False</td>\n",
       "      <td>False</td>\n",
       "      <td>False</td>\n",
       "      <td>False</td>\n",
       "      <td>False</td>\n",
       "      <td>False</td>\n",
       "      <td>False</td>\n",
       "    </tr>\n",
       "    <tr>\n",
       "      <th>10998</th>\n",
       "      <td>False</td>\n",
       "      <td>False</td>\n",
       "      <td>False</td>\n",
       "      <td>False</td>\n",
       "      <td>False</td>\n",
       "      <td>False</td>\n",
       "      <td>False</td>\n",
       "      <td>False</td>\n",
       "      <td>False</td>\n",
       "      <td>False</td>\n",
       "      <td>False</td>\n",
       "      <td>False</td>\n",
       "    </tr>\n",
       "    <tr>\n",
       "      <th>10999</th>\n",
       "      <td>False</td>\n",
       "      <td>False</td>\n",
       "      <td>False</td>\n",
       "      <td>False</td>\n",
       "      <td>False</td>\n",
       "      <td>False</td>\n",
       "      <td>False</td>\n",
       "      <td>False</td>\n",
       "      <td>False</td>\n",
       "      <td>False</td>\n",
       "      <td>False</td>\n",
       "      <td>False</td>\n",
       "    </tr>\n",
       "  </tbody>\n",
       "</table>\n",
       "<p>11000 rows × 12 columns</p>\n",
       "</div>"
      ],
      "text/plain": [
       "       dot_count  url_len  digit_count  special_count  hyphen_count  \\\n",
       "0          False    False        False          False         False   \n",
       "1          False    False        False          False         False   \n",
       "2          False    False        False          False         False   \n",
       "3          False    False        False          False         False   \n",
       "4          False    False        False          False         False   \n",
       "...          ...      ...          ...            ...           ...   \n",
       "10995      False    False        False          False         False   \n",
       "10996      False    False        False          False         False   \n",
       "10997      False    False        False          False         False   \n",
       "10998      False    False        False          False         False   \n",
       "10999      False    False        False          False         False   \n",
       "\n",
       "       double_slash  single_slash  at_the_rate  protocol  protocol_count  \\\n",
       "0             False         False        False     False           False   \n",
       "1             False         False        False     False           False   \n",
       "2             False         False        False     False           False   \n",
       "3             False         False        False     False           False   \n",
       "4             False         False        False     False           False   \n",
       "...             ...           ...          ...       ...             ...   \n",
       "10995         False         False        False     False           False   \n",
       "10996         False         False        False     False           False   \n",
       "10997         False         False        False     False           False   \n",
       "10998         False         False        False     False           False   \n",
       "10999         False         False        False     False           False   \n",
       "\n",
       "       web_traffic  label  \n",
       "0            False  False  \n",
       "1            False  False  \n",
       "2            False  False  \n",
       "3            False  False  \n",
       "4            False  False  \n",
       "...            ...    ...  \n",
       "10995        False  False  \n",
       "10996        False  False  \n",
       "10997        False  False  \n",
       "10998        False  False  \n",
       "10999        False  False  \n",
       "\n",
       "[11000 rows x 12 columns]"
      ]
     },
     "execution_count": 49,
     "metadata": {},
     "output_type": "execute_result"
    }
   ],
   "source": [
    "df.isnull()"
   ]
  },
  {
   "cell_type": "code",
   "execution_count": 50,
   "id": "805fdaed",
   "metadata": {},
   "outputs": [
    {
     "data": {
      "text/plain": [
       "dot_count         int64\n",
       "url_len           int64\n",
       "digit_count       int64\n",
       "special_count     int64\n",
       "hyphen_count      int64\n",
       "double_slash      int64\n",
       "single_slash      int64\n",
       "at_the_rate       int64\n",
       "protocol          int64\n",
       "protocol_count    int64\n",
       "web_traffic       int64\n",
       "label             int64\n",
       "dtype: object"
      ]
     },
     "execution_count": 50,
     "metadata": {},
     "output_type": "execute_result"
    }
   ],
   "source": [
    "df.dtypes"
   ]
  },
  {
   "cell_type": "code",
   "execution_count": 51,
   "id": "7e52f067",
   "metadata": {},
   "outputs": [],
   "source": [
    "df1 = df"
   ]
  },
  {
   "cell_type": "code",
   "execution_count": 52,
   "id": "daf01d4e",
   "metadata": {},
   "outputs": [
    {
     "data": {
      "text/plain": [
       "(11000, 12)"
      ]
     },
     "execution_count": 52,
     "metadata": {},
     "output_type": "execute_result"
    }
   ],
   "source": [
    "df1.shape"
   ]
  },
  {
   "cell_type": "code",
   "execution_count": 53,
   "id": "e02806cc",
   "metadata": {},
   "outputs": [
    {
     "data": {
      "text/html": [
       "<div>\n",
       "<style scoped>\n",
       "    .dataframe tbody tr th:only-of-type {\n",
       "        vertical-align: middle;\n",
       "    }\n",
       "\n",
       "    .dataframe tbody tr th {\n",
       "        vertical-align: top;\n",
       "    }\n",
       "\n",
       "    .dataframe thead th {\n",
       "        text-align: right;\n",
       "    }\n",
       "</style>\n",
       "<table border=\"1\" class=\"dataframe\">\n",
       "  <thead>\n",
       "    <tr style=\"text-align: right;\">\n",
       "      <th></th>\n",
       "      <th>dot_count</th>\n",
       "      <th>url_len</th>\n",
       "      <th>digit_count</th>\n",
       "      <th>special_count</th>\n",
       "      <th>hyphen_count</th>\n",
       "      <th>double_slash</th>\n",
       "      <th>single_slash</th>\n",
       "      <th>at_the_rate</th>\n",
       "      <th>protocol</th>\n",
       "      <th>protocol_count</th>\n",
       "      <th>web_traffic</th>\n",
       "      <th>label</th>\n",
       "    </tr>\n",
       "  </thead>\n",
       "  <tbody>\n",
       "    <tr>\n",
       "      <th>5500</th>\n",
       "      <td>5</td>\n",
       "      <td>48</td>\n",
       "      <td>2</td>\n",
       "      <td>0</td>\n",
       "      <td>0</td>\n",
       "      <td>1</td>\n",
       "      <td>5</td>\n",
       "      <td>0</td>\n",
       "      <td>1</td>\n",
       "      <td>1</td>\n",
       "      <td>1</td>\n",
       "      <td>0</td>\n",
       "    </tr>\n",
       "    <tr>\n",
       "      <th>5501</th>\n",
       "      <td>2</td>\n",
       "      <td>110</td>\n",
       "      <td>11</td>\n",
       "      <td>5</td>\n",
       "      <td>2</td>\n",
       "      <td>1</td>\n",
       "      <td>3</td>\n",
       "      <td>0</td>\n",
       "      <td>1</td>\n",
       "      <td>1</td>\n",
       "      <td>1</td>\n",
       "      <td>0</td>\n",
       "    </tr>\n",
       "    <tr>\n",
       "      <th>5502</th>\n",
       "      <td>3</td>\n",
       "      <td>66</td>\n",
       "      <td>5</td>\n",
       "      <td>0</td>\n",
       "      <td>4</td>\n",
       "      <td>1</td>\n",
       "      <td>4</td>\n",
       "      <td>0</td>\n",
       "      <td>1</td>\n",
       "      <td>1</td>\n",
       "      <td>0</td>\n",
       "      <td>0</td>\n",
       "    </tr>\n",
       "    <tr>\n",
       "      <th>5503</th>\n",
       "      <td>2</td>\n",
       "      <td>56</td>\n",
       "      <td>5</td>\n",
       "      <td>0</td>\n",
       "      <td>4</td>\n",
       "      <td>1</td>\n",
       "      <td>3</td>\n",
       "      <td>0</td>\n",
       "      <td>1</td>\n",
       "      <td>1</td>\n",
       "      <td>0</td>\n",
       "      <td>0</td>\n",
       "    </tr>\n",
       "    <tr>\n",
       "      <th>5504</th>\n",
       "      <td>1</td>\n",
       "      <td>33</td>\n",
       "      <td>0</td>\n",
       "      <td>0</td>\n",
       "      <td>0</td>\n",
       "      <td>1</td>\n",
       "      <td>5</td>\n",
       "      <td>0</td>\n",
       "      <td>1</td>\n",
       "      <td>1</td>\n",
       "      <td>1</td>\n",
       "      <td>0</td>\n",
       "    </tr>\n",
       "    <tr>\n",
       "      <th>...</th>\n",
       "      <td>...</td>\n",
       "      <td>...</td>\n",
       "      <td>...</td>\n",
       "      <td>...</td>\n",
       "      <td>...</td>\n",
       "      <td>...</td>\n",
       "      <td>...</td>\n",
       "      <td>...</td>\n",
       "      <td>...</td>\n",
       "      <td>...</td>\n",
       "      <td>...</td>\n",
       "      <td>...</td>\n",
       "    </tr>\n",
       "    <tr>\n",
       "      <th>10995</th>\n",
       "      <td>4</td>\n",
       "      <td>77</td>\n",
       "      <td>9</td>\n",
       "      <td>0</td>\n",
       "      <td>2</td>\n",
       "      <td>1</td>\n",
       "      <td>2</td>\n",
       "      <td>0</td>\n",
       "      <td>0</td>\n",
       "      <td>1</td>\n",
       "      <td>1</td>\n",
       "      <td>0</td>\n",
       "    </tr>\n",
       "    <tr>\n",
       "      <th>10996</th>\n",
       "      <td>2</td>\n",
       "      <td>40</td>\n",
       "      <td>6</td>\n",
       "      <td>0</td>\n",
       "      <td>0</td>\n",
       "      <td>1</td>\n",
       "      <td>2</td>\n",
       "      <td>0</td>\n",
       "      <td>0</td>\n",
       "      <td>1</td>\n",
       "      <td>1</td>\n",
       "      <td>0</td>\n",
       "    </tr>\n",
       "    <tr>\n",
       "      <th>10997</th>\n",
       "      <td>2</td>\n",
       "      <td>40</td>\n",
       "      <td>0</td>\n",
       "      <td>0</td>\n",
       "      <td>0</td>\n",
       "      <td>1</td>\n",
       "      <td>4</td>\n",
       "      <td>0</td>\n",
       "      <td>0</td>\n",
       "      <td>1</td>\n",
       "      <td>1</td>\n",
       "      <td>0</td>\n",
       "    </tr>\n",
       "    <tr>\n",
       "      <th>10998</th>\n",
       "      <td>3</td>\n",
       "      <td>177</td>\n",
       "      <td>18</td>\n",
       "      <td>22</td>\n",
       "      <td>2</td>\n",
       "      <td>1</td>\n",
       "      <td>4</td>\n",
       "      <td>0</td>\n",
       "      <td>0</td>\n",
       "      <td>1</td>\n",
       "      <td>1</td>\n",
       "      <td>0</td>\n",
       "    </tr>\n",
       "    <tr>\n",
       "      <th>10999</th>\n",
       "      <td>1</td>\n",
       "      <td>25</td>\n",
       "      <td>0</td>\n",
       "      <td>0</td>\n",
       "      <td>0</td>\n",
       "      <td>1</td>\n",
       "      <td>3</td>\n",
       "      <td>0</td>\n",
       "      <td>0</td>\n",
       "      <td>1</td>\n",
       "      <td>1</td>\n",
       "      <td>0</td>\n",
       "    </tr>\n",
       "  </tbody>\n",
       "</table>\n",
       "<p>5500 rows × 12 columns</p>\n",
       "</div>"
      ],
      "text/plain": [
       "       dot_count  url_len  digit_count  special_count  hyphen_count  \\\n",
       "5500           5       48            2              0             0   \n",
       "5501           2      110           11              5             2   \n",
       "5502           3       66            5              0             4   \n",
       "5503           2       56            5              0             4   \n",
       "5504           1       33            0              0             0   \n",
       "...          ...      ...          ...            ...           ...   \n",
       "10995          4       77            9              0             2   \n",
       "10996          2       40            6              0             0   \n",
       "10997          2       40            0              0             0   \n",
       "10998          3      177           18             22             2   \n",
       "10999          1       25            0              0             0   \n",
       "\n",
       "       double_slash  single_slash  at_the_rate  protocol  protocol_count  \\\n",
       "5500              1             5            0         1               1   \n",
       "5501              1             3            0         1               1   \n",
       "5502              1             4            0         1               1   \n",
       "5503              1             3            0         1               1   \n",
       "5504              1             5            0         1               1   \n",
       "...             ...           ...          ...       ...             ...   \n",
       "10995             1             2            0         0               1   \n",
       "10996             1             2            0         0               1   \n",
       "10997             1             4            0         0               1   \n",
       "10998             1             4            0         0               1   \n",
       "10999             1             3            0         0               1   \n",
       "\n",
       "       web_traffic  label  \n",
       "5500             1      0  \n",
       "5501             1      0  \n",
       "5502             0      0  \n",
       "5503             0      0  \n",
       "5504             1      0  \n",
       "...            ...    ...  \n",
       "10995            1      0  \n",
       "10996            1      0  \n",
       "10997            1      0  \n",
       "10998            1      0  \n",
       "10999            1      0  \n",
       "\n",
       "[5500 rows x 12 columns]"
      ]
     },
     "execution_count": 53,
     "metadata": {},
     "output_type": "execute_result"
    }
   ],
   "source": [
    "df1[df1.label == 0]"
   ]
  },
  {
   "cell_type": "code",
   "execution_count": 54,
   "id": "0b2a4384",
   "metadata": {},
   "outputs": [
    {
     "data": {
      "text/plain": [
       "5500      48\n",
       "5501     110\n",
       "5502      66\n",
       "5503      56\n",
       "5504      33\n",
       "        ... \n",
       "10995     77\n",
       "10996     40\n",
       "10997     40\n",
       "10998    177\n",
       "10999     25\n",
       "Name: url_len, Length: 5500, dtype: int64"
      ]
     },
     "execution_count": 54,
     "metadata": {},
     "output_type": "execute_result"
    }
   ],
   "source": [
    "df1[df1.label == 0].url_len"
   ]
  },
  {
   "cell_type": "code",
   "execution_count": 55,
   "id": "a46e5ab9",
   "metadata": {},
   "outputs": [],
   "source": [
    "url_len_phishing_no = df1[df1.label == 1].url_len\n",
    "url_len_phishing_yes = df1[df1.label == 0].url_len"
   ]
  },
  {
   "cell_type": "code",
   "execution_count": 56,
   "id": "d6d5bc4a",
   "metadata": {},
   "outputs": [
    {
     "data": {
      "text/plain": [
       "<matplotlib.legend.Legend at 0x1c92ceecaf0>"
      ]
     },
     "execution_count": 56,
     "metadata": {},
     "output_type": "execute_result"
    },
    {
     "data": {
      "image/png": "[encoded data removed]",
      "text/plain": [
       "<Figure size 432x288 with 1 Axes>"
      ]
     },
     "metadata": {
      "needs_background": "light"
     },
     "output_type": "display_data"
    }
   ],
   "source": [
    "plt.xlabel('url length')\n",
    "plt.ylabel('Number')\n",
    "plt.title('Phishing URL prediction visualization')\n",
    "\n",
    "plt.hist([url_len_phishing_yes,url_len_phishing_no],color = ['green','red'],label = ['phishingyes','phishingno'])\n",
    "plt.legend()"
   ]
  },
  {
   "cell_type": "code",
   "execution_count": 57,
   "id": "2dc208db",
   "metadata": {},
   "outputs": [
    {
     "data": {
      "text/plain": [
       "<matplotlib.legend.Legend at 0x1c91eee88e0>"
      ]
     },
     "execution_count": 57,
     "metadata": {},
     "output_type": "execute_result"
    },
    {
     "data": {
      "image/png": "[encoded data removed]",
      "text/plain": [
       "<Figure size 432x288 with 1 Axes>"
      ]
     },
     "metadata": {
      "needs_background": "light"
     },
     "output_type": "display_data"
    }
   ],
   "source": [
    "special_count_phishing_no = df1[df1.label == 1].special_count\n",
    "special_count_phishing_yes = df1[df1.label == 0].special_count\n",
    "\n",
    "plt.xlabel('special count')\n",
    "plt.ylabel('Number')\n",
    "plt.title('Phishing URL prediction visualization')\n",
    "\n",
    "plt.hist([special_count_phishing_yes,special_count_phishing_no],color = ['green','red'],label = ['phishingyes','phishingno'])\n",
    "plt.legend()"
   ]
  },
  {
   "cell_type": "code",
   "execution_count": 58,
   "id": "dba3e90a",
   "metadata": {},
   "outputs": [
    {
     "name": "stdout",
     "output_type": "stream",
     "text": [
      "dot_count\n",
      "url_len\n",
      "digit_count\n",
      "special_count\n",
      "hyphen_count\n",
      "double_slash\n",
      "single_slash\n",
      "at_the_rate\n",
      "protocol\n",
      "protocol_count\n",
      "web_traffic\n",
      "label\n"
     ]
    }
   ],
   "source": [
    "for column in df:\n",
    "    print(column)"
   ]
  },
  {
   "cell_type": "code",
   "execution_count": 59,
   "id": "0a4d2fc9",
   "metadata": {},
   "outputs": [
    {
     "name": "stdout",
     "output_type": "stream",
     "text": [
      "dot_count  [ 1  2  3  5  4 13  9  6 14 24 28 10 15  8  7 23 27 11 16]\n",
      "url_len  [  10   11    9    6    8   12   13    7   19   17   14    5   15   20\n",
      "    4   16   18   21   26   28   22   30   23   27   25   24   31   29\n",
      "   36   48  110   66   56   33   77   35   43   45   97   38   74   83\n",
      "   86   80   79   41   99   65   49   50   32   67   85  118  154  199\n",
      "  142  104   68  236  219  212  198   94   61   55   37   59  157  159\n",
      "   57  152   63   46   89  114  106  394  495  465  513  493  485  689\n",
      "   39  123   69   78   42  113  112   81   76   71   64  188   58   54\n",
      "   34   84  100   60  507  430   40  205  175   47  105   44   62  143\n",
      "  148   96   53   51  162  171  241  237  613   52  182  179   70  155\n",
      "  369  363  103  243   82  156   91  920  119  172  108  147  235  177\n",
      "  197  133  129  202  204  295  128  127  141  166  167  138  260  261\n",
      "  263  244   90  184  256  164  218  211  181  183  173  180  383  253\n",
      "  109   75  192  122  207  467  627  633  641  629  631  635  637  160\n",
      "  234  101  647  149  217  268  425  367   73   87  312  191  189  145\n",
      "  262  265  264  266  209  146  111   95  163  393  373  483  107  491\n",
      "  459  117  144  230  200  971   72  267  176  233  170  125   92  222\n",
      "  102  150  161  136  151  225  137  203  302  276  116  132   88  169\n",
      "  390  391  210  231  554  216  224  494  206   93  269  271  223  153\n",
      "  168  158  540  174  121   98  461  220  497  506  392  186  194  429\n",
      "  510  281  139  328  214  239  213  178  131  165  135  407  208  396\n",
      "  273  270  282  280  476  431  426  477  130  362  201  115  277  278\n",
      "  193  215  226  120  360  308  352  324  190 2123 2122  398  272 1664\n",
      "  126  242  227  140  440  303  221  478  304  348  356  354  229  187\n",
      "  247  196  692  365  368  366  364  305  464  124  462  259  185  296\n",
      "  134  346  342  475  562  314  353  708  785  695  372]\n",
      "digit_count  [  0   3   2   4   1   6   5  11   9  12  26  28  27  16  15  62  65  70\n",
      "  61  68  69  64  56  67  17  30  33  77  74  73  81  75 107  10  29  19\n",
      "  25  20  23  14   7  18  43   8  49  21  44 106 129  52  72  22  13  39\n",
      " 702  88  53 116  24  71  34  31  37  45  47  42  84  66  82  50  41  76\n",
      "  92  99 104 103 102  91 101  46 108 137  32  36  63  89  60  35  48  58\n",
      "  80 128  54  95  83  38  55  59  51 330  96 115  86 109 120  40 111 119\n",
      "  78  57  85  93 246 278  87 100 146  94 123 113 110 105 212 118  98  90\n",
      " 141 139]\n",
      "special_count  [ 0  5  1  2  7 39  3  4 59 48  8  6 14 11  9 10 12 13 57 30 46 15 38 43\n",
      " 16 55 18 17 22 37 20 26 40 28 19]\n",
      "hyphen_count  [ 0  2  1  3  4  8 13 17 19 22  6  5 23  9  7 25 18 16 20 21 27 24 10 30\n",
      " 11 12 31 32 15 14 26 29]\n",
      "double_slash  [0 1 5 3 6 2]\n",
      "single_slash  [ 0  5  3  4  8  9  6 13 17 10  7 22 20 19 21  2 25 12 11 24 18 14 23 16\n",
      " 15]\n",
      "at_the_rate  [0 1 3 2]\n",
      "protocol  [0 1]\n",
      "protocol_count  [0 1 2 5 6 3]\n",
      "web_traffic  [0 1]\n",
      "label  [1 0]\n"
     ]
    }
   ],
   "source": [
    "for column in df:\n",
    "    print(f'{column}  {df[column].unique()}')"
   ]
  },
  {
   "cell_type": "code",
   "execution_count": 60,
   "id": "8b124a0b",
   "metadata": {},
   "outputs": [],
   "source": [
    "def print_unique_col_values(df):\n",
    "    for column in df:\n",
    "        if df[column].dtypes == 'int64':\n",
    "            print(f'{column}  {df[column].unique()}')"
   ]
  },
  {
   "cell_type": "code",
   "execution_count": 61,
   "id": "c1557df3",
   "metadata": {},
   "outputs": [
    {
     "name": "stdout",
     "output_type": "stream",
     "text": [
      "dot_count  [ 1  2  3  5  4 13  9  6 14 24 28 10 15  8  7 23 27 11 16]\n",
      "url_len  [  10   11    9    6    8   12   13    7   19   17   14    5   15   20\n",
      "    4   16   18   21   26   28   22   30   23   27   25   24   31   29\n",
      "   36   48  110   66   56   33   77   35   43   45   97   38   74   83\n",
      "   86   80   79   41   99   65   49   50   32   67   85  118  154  199\n",
      "  142  104   68  236  219  212  198   94   61   55   37   59  157  159\n",
      "   57  152   63   46   89  114  106  394  495  465  513  493  485  689\n",
      "   39  123   69   78   42  113  112   81   76   71   64  188   58   54\n",
      "   34   84  100   60  507  430   40  205  175   47  105   44   62  143\n",
      "  148   96   53   51  162  171  241  237  613   52  182  179   70  155\n",
      "  369  363  103  243   82  156   91  920  119  172  108  147  235  177\n",
      "  197  133  129  202  204  295  128  127  141  166  167  138  260  261\n",
      "  263  244   90  184  256  164  218  211  181  183  173  180  383  253\n",
      "  109   75  192  122  207  467  627  633  641  629  631  635  637  160\n",
      "  234  101  647  149  217  268  425  367   73   87  312  191  189  145\n",
      "  262  265  264  266  209  146  111   95  163  393  373  483  107  491\n",
      "  459  117  144  230  200  971   72  267  176  233  170  125   92  222\n",
      "  102  150  161  136  151  225  137  203  302  276  116  132   88  169\n",
      "  390  391  210  231  554  216  224  494  206   93  269  271  223  153\n",
      "  168  158  540  174  121   98  461  220  497  506  392  186  194  429\n",
      "  510  281  139  328  214  239  213  178  131  165  135  407  208  396\n",
      "  273  270  282  280  476  431  426  477  130  362  201  115  277  278\n",
      "  193  215  226  120  360  308  352  324  190 2123 2122  398  272 1664\n",
      "  126  242  227  140  440  303  221  478  304  348  356  354  229  187\n",
      "  247  196  692  365  368  366  364  305  464  124  462  259  185  296\n",
      "  134  346  342  475  562  314  353  708  785  695  372]\n",
      "digit_count  [  0   3   2   4   1   6   5  11   9  12  26  28  27  16  15  62  65  70\n",
      "  61  68  69  64  56  67  17  30  33  77  74  73  81  75 107  10  29  19\n",
      "  25  20  23  14   7  18  43   8  49  21  44 106 129  52  72  22  13  39\n",
      " 702  88  53 116  24  71  34  31  37  45  47  42  84  66  82  50  41  76\n",
      "  92  99 104 103 102  91 101  46 108 137  32  36  63  89  60  35  48  58\n",
      "  80 128  54  95  83  38  55  59  51 330  96 115  86 109 120  40 111 119\n",
      "  78  57  85  93 246 278  87 100 146  94 123 113 110 105 212 118  98  90\n",
      " 141 139]\n",
      "special_count  [ 0  5  1  2  7 39  3  4 59 48  8  6 14 11  9 10 12 13 57 30 46 15 38 43\n",
      " 16 55 18 17 22 37 20 26 40 28 19]\n",
      "hyphen_count  [ 0  2  1  3  4  8 13 17 19 22  6  5 23  9  7 25 18 16 20 21 27 24 10 30\n",
      " 11 12 31 32 15 14 26 29]\n",
      "double_slash  [0 1 5 3 6 2]\n",
      "single_slash  [ 0  5  3  4  8  9  6 13 17 10  7 22 20 19 21  2 25 12 11 24 18 14 23 16\n",
      " 15]\n",
      "at_the_rate  [0 1 3 2]\n",
      "protocol  [0 1]\n",
      "protocol_count  [0 1 2 5 6 3]\n",
      "web_traffic  [0 1]\n",
      "label  [1 0]\n"
     ]
    }
   ],
   "source": [
    "print_unique_col_values(df1)"
   ]
  },
  {
   "cell_type": "code",
   "execution_count": 62,
   "id": "a8e31461",
   "metadata": {},
   "outputs": [
    {
     "data": {
      "text/plain": [
       "dot_count         int64\n",
       "url_len           int64\n",
       "digit_count       int64\n",
       "special_count     int64\n",
       "hyphen_count      int64\n",
       "double_slash      int64\n",
       "single_slash      int64\n",
       "at_the_rate       int64\n",
       "protocol          int64\n",
       "protocol_count    int64\n",
       "web_traffic       int64\n",
       "label             int64\n",
       "dtype: object"
      ]
     },
     "execution_count": 62,
     "metadata": {},
     "output_type": "execute_result"
    }
   ],
   "source": [
    "df1.dtypes"
   ]
  },
  {
   "cell_type": "code",
   "execution_count": 63,
   "id": "6dec100e",
   "metadata": {},
   "outputs": [],
   "source": [
    "#Scale every colounmn which are not 0 and 1 in to 0 and 1 range\n",
    "cols_to_scale = ['dot_count','url_len','digit_count','special_count','hyphen_count','double_slash','single_slash','at_the_rate','protocol_count']\n",
    "\n",
    "from sklearn.preprocessing import MinMaxScaler\n",
    "scaler = MinMaxScaler()\n",
    "df1[cols_to_scale] = scaler.fit_transform(df1[cols_to_scale])"
   ]
  },
  {
   "cell_type": "code",
   "execution_count": 64,
   "id": "c1d0534e",
   "metadata": {},
   "outputs": [
    {
     "data": {
      "text/html": [
       "<div>\n",
       "<style scoped>\n",
       "    .dataframe tbody tr th:only-of-type {\n",
       "        vertical-align: middle;\n",
       "    }\n",
       "\n",
       "    .dataframe tbody tr th {\n",
       "        vertical-align: top;\n",
       "    }\n",
       "\n",
       "    .dataframe thead th {\n",
       "        text-align: right;\n",
       "    }\n",
       "</style>\n",
       "<table border=\"1\" class=\"dataframe\">\n",
       "  <thead>\n",
       "    <tr style=\"text-align: right;\">\n",
       "      <th></th>\n",
       "      <th>dot_count</th>\n",
       "      <th>url_len</th>\n",
       "      <th>digit_count</th>\n",
       "      <th>special_count</th>\n",
       "      <th>hyphen_count</th>\n",
       "      <th>double_slash</th>\n",
       "      <th>single_slash</th>\n",
       "      <th>at_the_rate</th>\n",
       "      <th>protocol</th>\n",
       "      <th>protocol_count</th>\n",
       "      <th>web_traffic</th>\n",
       "      <th>label</th>\n",
       "    </tr>\n",
       "  </thead>\n",
       "  <tbody>\n",
       "    <tr>\n",
       "      <th>138</th>\n",
       "      <td>0.000000</td>\n",
       "      <td>0.001416</td>\n",
       "      <td>0.000000</td>\n",
       "      <td>0.0</td>\n",
       "      <td>0.0000</td>\n",
       "      <td>0.000000</td>\n",
       "      <td>0.00</td>\n",
       "      <td>0.0</td>\n",
       "      <td>0</td>\n",
       "      <td>0.000000</td>\n",
       "      <td>0</td>\n",
       "      <td>1</td>\n",
       "    </tr>\n",
       "    <tr>\n",
       "      <th>10195</th>\n",
       "      <td>0.111111</td>\n",
       "      <td>0.034450</td>\n",
       "      <td>0.012821</td>\n",
       "      <td>0.0</td>\n",
       "      <td>0.0625</td>\n",
       "      <td>0.166667</td>\n",
       "      <td>0.12</td>\n",
       "      <td>0.0</td>\n",
       "      <td>1</td>\n",
       "      <td>0.166667</td>\n",
       "      <td>1</td>\n",
       "      <td>0</td>\n",
       "    </tr>\n",
       "    <tr>\n",
       "      <th>5747</th>\n",
       "      <td>0.037037</td>\n",
       "      <td>0.023124</td>\n",
       "      <td>0.000000</td>\n",
       "      <td>0.0</td>\n",
       "      <td>0.0000</td>\n",
       "      <td>0.166667</td>\n",
       "      <td>0.20</td>\n",
       "      <td>0.0</td>\n",
       "      <td>0</td>\n",
       "      <td>0.166667</td>\n",
       "      <td>1</td>\n",
       "      <td>0</td>\n",
       "    </tr>\n",
       "  </tbody>\n",
       "</table>\n",
       "</div>"
      ],
      "text/plain": [
       "       dot_count   url_len  digit_count  special_count  hyphen_count  \\\n",
       "138     0.000000  0.001416     0.000000            0.0        0.0000   \n",
       "10195   0.111111  0.034450     0.012821            0.0        0.0625   \n",
       "5747    0.037037  0.023124     0.000000            0.0        0.0000   \n",
       "\n",
       "       double_slash  single_slash  at_the_rate  protocol  protocol_count  \\\n",
       "138        0.000000          0.00          0.0         0        0.000000   \n",
       "10195      0.166667          0.12          0.0         1        0.166667   \n",
       "5747       0.166667          0.20          0.0         0        0.166667   \n",
       "\n",
       "       web_traffic  label  \n",
       "138              0      1  \n",
       "10195            1      0  \n",
       "5747             1      0  "
      ]
     },
     "execution_count": 64,
     "metadata": {},
     "output_type": "execute_result"
    }
   ],
   "source": [
    "df1.sample(3)"
   ]
  },
  {
   "cell_type": "code",
   "execution_count": 65,
   "id": "24a7fefe",
   "metadata": {},
   "outputs": [
    {
     "name": "stdout",
     "output_type": "stream",
     "text": [
      "dot_count: [0.         0.03703704 0.07407407 0.14814815 0.11111111 0.44444444\n",
      " 0.2962963  0.18518519 0.48148148 0.85185185 1.         0.33333333\n",
      " 0.51851852 0.25925926 0.22222222 0.81481481 0.96296296 0.37037037\n",
      " 0.55555556]\n",
      "url_len: [2.83152430e-03 3.30344502e-03 2.35960359e-03 9.43841435e-04\n",
      " 1.88768287e-03 3.77536574e-03 4.24728646e-03 1.41576215e-03\n",
      " 7.07881076e-03 6.13496933e-03 4.71920717e-03 4.71920717e-04\n",
      " 5.19112789e-03 7.55073148e-03 0.00000000e+00 5.66304861e-03\n",
      " 6.60689004e-03 8.02265219e-03 1.03822558e-02 1.13260972e-02\n",
      " 8.49457291e-03 1.22699387e-02 8.96649363e-03 1.08541765e-02\n",
      " 9.91033506e-03 9.43841435e-03 1.27418594e-02 1.17980179e-02\n",
      " 1.51014630e-02 2.07645116e-02 5.00235960e-02 2.92590845e-02\n",
      " 2.45398773e-02 1.36857008e-02 3.44502124e-02 1.46295422e-02\n",
      " 1.84049080e-02 1.93487494e-02 4.38886267e-02 1.60453044e-02\n",
      " 3.30344502e-02 3.72817367e-02 3.86974988e-02 3.58659745e-02\n",
      " 3.53940538e-02 1.74610665e-02 4.48324681e-02 2.87871638e-02\n",
      " 2.12364323e-02 2.17083530e-02 1.32137801e-02 2.97310052e-02\n",
      " 3.82255781e-02 5.37989618e-02 7.07881076e-02 9.20245399e-02\n",
      " 6.51250590e-02 4.71920717e-02 3.02029259e-02 1.09485606e-01\n",
      " 1.01462954e-01 9.81595092e-02 9.15526192e-02 4.24728646e-02\n",
      " 2.68994809e-02 2.40679566e-02 1.55733837e-02 2.59556395e-02\n",
      " 7.22038697e-02 7.31477112e-02 2.50117980e-02 6.98442662e-02\n",
      " 2.78433223e-02 1.98206701e-02 4.01132610e-02 5.19112789e-02\n",
      " 4.81359132e-02 1.84049080e-01 2.31713072e-01 2.17555451e-01\n",
      " 2.40207645e-01 2.30769231e-01 2.26993865e-01 3.23265691e-01\n",
      " 1.65172251e-02 5.61585654e-02 3.06748466e-02 3.49221331e-02\n",
      " 1.79329873e-02 5.14393582e-02 5.09674375e-02 3.63378952e-02\n",
      " 3.39782916e-02 3.16186881e-02 2.83152430e-02 8.68334120e-02\n",
      " 2.54837187e-02 2.35960359e-02 1.41576215e-02 3.77536574e-02\n",
      " 4.53043889e-02 2.64275602e-02 2.37376121e-01 2.01038226e-01\n",
      " 1.69891458e-02 9.48560642e-02 8.06984427e-02 2.02925908e-02\n",
      " 4.76639924e-02 1.88768287e-02 2.73714016e-02 6.55969797e-02\n",
      " 6.79565833e-02 4.34167060e-02 2.31241151e-02 2.21802737e-02\n",
      " 7.45634733e-02 7.88107598e-02 1.11845210e-01 1.09957527e-01\n",
      " 2.87399717e-01 2.26521944e-02 8.40018877e-02 8.25861255e-02\n",
      " 3.11467673e-02 7.12600283e-02 1.72251062e-01 1.69419538e-01\n",
      " 4.67201510e-02 1.12789051e-01 3.68098160e-02 7.17319490e-02\n",
      " 4.10571024e-02 4.32279377e-01 5.42708825e-02 7.92826805e-02\n",
      " 4.90797546e-02 6.74846626e-02 1.09013686e-01 8.16422841e-02\n",
      " 9.10806984e-02 6.08777725e-02 5.89900897e-02 9.34403020e-02\n",
      " 9.43841435e-02 1.37328929e-01 5.85181689e-02 5.80462482e-02\n",
      " 6.46531383e-02 7.64511562e-02 7.69230769e-02 6.32373761e-02\n",
      " 1.20811704e-01 1.21283624e-01 1.22227466e-01 1.13260972e-01\n",
      " 4.05851817e-02 8.49457291e-02 1.18924021e-01 7.55073148e-02\n",
      " 1.00991034e-01 9.76875885e-02 8.35299670e-02 8.44738084e-02\n",
      " 7.97546012e-02 8.30580462e-02 1.78857952e-01 1.17508259e-01\n",
      " 4.95516753e-02 3.35063709e-02 8.87210949e-02 5.56866446e-02\n",
      " 9.57999056e-02 2.18499292e-01 2.94006607e-01 2.96838131e-01\n",
      " 3.00613497e-01 2.94950448e-01 2.95894290e-01 2.97781973e-01\n",
      " 2.98725814e-01 7.36196319e-02 1.08541765e-01 4.57763096e-02\n",
      " 3.03445021e-01 6.84285040e-02 1.00519113e-01 1.24587069e-01\n",
      " 1.98678622e-01 1.71307220e-01 3.25625295e-02 3.91694195e-02\n",
      " 1.45351581e-01 8.82491741e-02 8.73053327e-02 6.65408211e-02\n",
      " 1.21755545e-01 1.23171307e-01 1.22699387e-01 1.23643228e-01\n",
      " 9.67437471e-02 6.70127419e-02 5.04955168e-02 4.29447853e-02\n",
      " 7.50353941e-02 1.83577159e-01 1.74138745e-01 2.26050024e-01\n",
      " 4.86078339e-02 2.29825389e-01 2.14723926e-01 5.33270411e-02\n",
      " 6.60689004e-02 1.06654082e-01 9.24964606e-02 4.56347334e-01\n",
      " 3.20906088e-02 1.24115149e-01 8.11703634e-02 1.08069844e-01\n",
      " 7.83388391e-02 5.71024068e-02 4.15290231e-02 1.02878716e-01\n",
      " 4.62482303e-02 6.89004247e-02 7.40915526e-02 6.22935347e-02\n",
      " 6.93723454e-02 1.04294479e-01 6.27654554e-02 9.39122227e-02\n",
      " 1.40632374e-01 1.28362435e-01 5.28551203e-02 6.04058518e-02\n",
      " 3.96413403e-02 7.78669184e-02 1.82161397e-01 1.82633318e-01\n",
      " 9.72156678e-02 1.07126003e-01 2.59556395e-01 1.00047192e-01\n",
      " 1.03822558e-01 2.31241151e-01 9.53279849e-02 4.20009438e-02\n",
      " 1.25058990e-01 1.26002832e-01 1.03350637e-01 7.03161869e-02\n",
      " 7.73949976e-02 7.26757905e-02 2.52949504e-01 8.02265219e-02\n",
      " 5.52147239e-02 4.43605474e-02 2.15667768e-01 1.01934875e-01\n",
      " 2.32656914e-01 2.36904200e-01 1.83105238e-01 8.58895706e-02\n",
      " 8.96649363e-02 2.00566305e-01 2.38791883e-01 1.30722039e-01\n",
      " 6.37092968e-02 1.52902312e-01 9.91033506e-02 1.10901369e-01\n",
      " 9.86314299e-02 8.21142048e-02 5.99339311e-02 7.59792355e-02\n",
      " 6.18216140e-02 1.90184049e-01 9.62718263e-02 1.84992921e-01\n",
      " 1.26946673e-01 1.25530911e-01 1.31193959e-01 1.30250118e-01\n",
      " 2.22746579e-01 2.01510146e-01 1.99150543e-01 2.23218499e-01\n",
      " 5.94620104e-02 1.68947617e-01 9.29683813e-02 5.23831996e-02\n",
      " 1.28834356e-01 1.29306277e-01 8.91930156e-02 9.95752714e-02\n",
      " 1.04766399e-01 5.47428032e-02 1.68003775e-01 1.43463898e-01\n",
      " 1.64228410e-01 1.51014630e-01 8.77772534e-02 1.00000000e+00\n",
      " 9.99528079e-01 1.85936763e-01 1.26474752e-01 7.83388391e-01\n",
      " 5.75743275e-02 1.12317131e-01 1.05238320e-01 6.41812176e-02\n",
      " 2.05757433e-01 1.41104294e-01 1.02406796e-01 2.23690420e-01\n",
      " 1.41576215e-01 1.62340727e-01 1.66116092e-01 1.65172251e-01\n",
      " 1.06182161e-01 8.63614913e-02 1.14676734e-01 9.06087777e-02\n",
      " 3.24681454e-01 1.70363379e-01 1.71779141e-01 1.70835300e-01\n",
      " 1.69891458e-01 1.42048136e-01 2.17083530e-01 5.66304861e-02\n",
      " 2.16139689e-01 1.20339783e-01 8.54176498e-02 1.37800849e-01\n",
      " 6.13496933e-02 1.61396885e-01 1.59509202e-01 2.22274658e-01\n",
      " 2.63331760e-01 1.46295422e-01 1.64700330e-01 3.32232185e-01\n",
      " 3.68570080e-01 3.26097216e-01 1.73666824e-01]\n",
      "digit_count: [0.         0.0042735  0.002849   0.00569801 0.0014245  0.00854701\n",
      " 0.00712251 0.01566952 0.01282051 0.01709402 0.03703704 0.03988604\n",
      " 0.03846154 0.02279202 0.02136752 0.08831909 0.09259259 0.0997151\n",
      " 0.08689459 0.0968661  0.0982906  0.09116809 0.07977208 0.0954416\n",
      " 0.02421652 0.04273504 0.04700855 0.10968661 0.10541311 0.1039886\n",
      " 0.11538462 0.10683761 0.15242165 0.01424501 0.04131054 0.02706553\n",
      " 0.03561254 0.02849003 0.03276353 0.01994302 0.00997151 0.02564103\n",
      " 0.06125356 0.01139601 0.06980057 0.02991453 0.06267806 0.15099715\n",
      " 0.18376068 0.07407407 0.1025641  0.03133903 0.01851852 0.05555556\n",
      " 1.         0.12535613 0.07549858 0.16524217 0.03418803 0.1011396\n",
      " 0.04843305 0.04415954 0.05270655 0.06410256 0.06695157 0.05982906\n",
      " 0.11965812 0.09401709 0.11680912 0.07122507 0.05840456 0.10826211\n",
      " 0.13105413 0.14102564 0.14814815 0.14672365 0.14529915 0.12962963\n",
      " 0.14387464 0.06552707 0.15384615 0.1951567  0.04558405 0.05128205\n",
      " 0.08974359 0.12678063 0.08547009 0.04985755 0.06837607 0.08262108\n",
      " 0.11396011 0.18233618 0.07692308 0.13532764 0.11823362 0.05413105\n",
      " 0.07834758 0.08404558 0.07264957 0.47008547 0.13675214 0.16381766\n",
      " 0.12250712 0.15527066 0.17094017 0.05698006 0.15811966 0.16951567\n",
      " 0.11111111 0.08119658 0.12108262 0.13247863 0.35042735 0.3960114\n",
      " 0.12393162 0.14245014 0.20797721 0.13390313 0.17521368 0.16096866\n",
      " 0.15669516 0.14957265 0.3019943  0.16809117 0.13960114 0.12820513\n",
      " 0.2008547  0.1980057 ]\n",
      "special_count: [0.         0.08474576 0.01694915 0.03389831 0.11864407 0.66101695\n",
      " 0.05084746 0.06779661 1.         0.81355932 0.13559322 0.10169492\n",
      " 0.23728814 0.18644068 0.15254237 0.16949153 0.20338983 0.22033898\n",
      " 0.96610169 0.50847458 0.77966102 0.25423729 0.6440678  0.72881356\n",
      " 0.27118644 0.93220339 0.30508475 0.28813559 0.37288136 0.62711864\n",
      " 0.33898305 0.44067797 0.6779661  0.47457627 0.3220339 ]\n",
      "hyphen_count: [0.      0.0625  0.03125 0.09375 0.125   0.25    0.40625 0.53125 0.59375\n",
      " 0.6875  0.1875  0.15625 0.71875 0.28125 0.21875 0.78125 0.5625  0.5\n",
      " 0.625   0.65625 0.84375 0.75    0.3125  0.9375  0.34375 0.375   0.96875\n",
      " 1.      0.46875 0.4375  0.8125  0.90625]\n",
      "double_slash: [0.         0.16666667 0.83333333 0.5        1.         0.33333333]\n",
      "single_slash: [0.   0.2  0.12 0.16 0.32 0.36 0.24 0.52 0.68 0.4  0.28 0.88 0.8  0.76\n",
      " 0.84 0.08 1.   0.48 0.44 0.96 0.72 0.56 0.92 0.64 0.6 ]\n",
      "at_the_rate: [0.         0.33333333 1.         0.66666667]\n",
      "protocol: [0 1]\n",
      "protocol_count: [0.         0.16666667 0.33333333 0.83333333 1.         0.5       ]\n",
      "web_traffic: [0 1]\n",
      "label: [1 0]\n"
     ]
    }
   ],
   "source": [
    "for col in df1:\n",
    "    print(f'{col}: {df1[col].unique()}')"
   ]
  },
  {
   "cell_type": "code",
   "execution_count": 66,
   "id": "d2432506",
   "metadata": {},
   "outputs": [],
   "source": [
    "# train and test split.Now the data frame is ready.data cleaning is finished.\n",
    "\n",
    "X = df1.drop('label',axis='columns')\n",
    "y = df1['label']"
   ]
  },
  {
   "cell_type": "code",
   "execution_count": 67,
   "id": "4008228c",
   "metadata": {},
   "outputs": [],
   "source": [
    "from sklearn.model_selection import train_test_split\n",
    "X_train, X_test, y_train, y_test = train_test_split(X,y,test_size=0.2,random_state=5)"
   ]
  },
  {
   "cell_type": "code",
   "execution_count": 68,
   "id": "a8985218",
   "metadata": {},
   "outputs": [
    {
     "data": {
      "text/plain": [
       "(8800, 11)"
      ]
     },
     "execution_count": 68,
     "metadata": {},
     "output_type": "execute_result"
    }
   ],
   "source": [
    "X_train.shape"
   ]
  },
  {
   "cell_type": "code",
   "execution_count": 69,
   "id": "503423ed",
   "metadata": {},
   "outputs": [
    {
     "data": {
      "text/plain": [
       "(2200, 11)"
      ]
     },
     "execution_count": 69,
     "metadata": {},
     "output_type": "execute_result"
    }
   ],
   "source": [
    "X_test.shape"
   ]
  },
  {
   "cell_type": "code",
   "execution_count": 70,
   "id": "13a6339f",
   "metadata": {},
   "outputs": [
    {
     "data": {
      "text/html": [
       "<div>\n",
       "<style scoped>\n",
       "    .dataframe tbody tr th:only-of-type {\n",
       "        vertical-align: middle;\n",
       "    }\n",
       "\n",
       "    .dataframe tbody tr th {\n",
       "        vertical-align: top;\n",
       "    }\n",
       "\n",
       "    .dataframe thead th {\n",
       "        text-align: right;\n",
       "    }\n",
       "</style>\n",
       "<table border=\"1\" class=\"dataframe\">\n",
       "  <thead>\n",
       "    <tr style=\"text-align: right;\">\n",
       "      <th></th>\n",
       "      <th>dot_count</th>\n",
       "      <th>url_len</th>\n",
       "      <th>digit_count</th>\n",
       "      <th>special_count</th>\n",
       "      <th>hyphen_count</th>\n",
       "      <th>double_slash</th>\n",
       "      <th>single_slash</th>\n",
       "      <th>at_the_rate</th>\n",
       "      <th>protocol</th>\n",
       "      <th>protocol_count</th>\n",
       "      <th>web_traffic</th>\n",
       "    </tr>\n",
       "  </thead>\n",
       "  <tbody>\n",
       "    <tr>\n",
       "      <th>254</th>\n",
       "      <td>0.037037</td>\n",
       "      <td>0.007079</td>\n",
       "      <td>0.000000</td>\n",
       "      <td>0.000000</td>\n",
       "      <td>0.00000</td>\n",
       "      <td>0.000000</td>\n",
       "      <td>0.00</td>\n",
       "      <td>0.0</td>\n",
       "      <td>0</td>\n",
       "      <td>0.000000</td>\n",
       "      <td>0</td>\n",
       "    </tr>\n",
       "    <tr>\n",
       "      <th>6447</th>\n",
       "      <td>0.148148</td>\n",
       "      <td>0.045776</td>\n",
       "      <td>0.034188</td>\n",
       "      <td>0.000000</td>\n",
       "      <td>0.09375</td>\n",
       "      <td>0.166667</td>\n",
       "      <td>0.20</td>\n",
       "      <td>0.0</td>\n",
       "      <td>1</td>\n",
       "      <td>0.166667</td>\n",
       "      <td>1</td>\n",
       "    </tr>\n",
       "    <tr>\n",
       "      <th>769</th>\n",
       "      <td>0.000000</td>\n",
       "      <td>0.001888</td>\n",
       "      <td>0.000000</td>\n",
       "      <td>0.000000</td>\n",
       "      <td>0.00000</td>\n",
       "      <td>0.000000</td>\n",
       "      <td>0.00</td>\n",
       "      <td>0.0</td>\n",
       "      <td>0</td>\n",
       "      <td>0.000000</td>\n",
       "      <td>0</td>\n",
       "    </tr>\n",
       "    <tr>\n",
       "      <th>875</th>\n",
       "      <td>0.000000</td>\n",
       "      <td>0.003303</td>\n",
       "      <td>0.001425</td>\n",
       "      <td>0.000000</td>\n",
       "      <td>0.00000</td>\n",
       "      <td>0.000000</td>\n",
       "      <td>0.00</td>\n",
       "      <td>0.0</td>\n",
       "      <td>0</td>\n",
       "      <td>0.000000</td>\n",
       "      <td>0</td>\n",
       "    </tr>\n",
       "    <tr>\n",
       "      <th>8771</th>\n",
       "      <td>0.111111</td>\n",
       "      <td>0.066069</td>\n",
       "      <td>0.058405</td>\n",
       "      <td>0.118644</td>\n",
       "      <td>0.03125</td>\n",
       "      <td>0.166667</td>\n",
       "      <td>0.20</td>\n",
       "      <td>0.0</td>\n",
       "      <td>0</td>\n",
       "      <td>0.166667</td>\n",
       "      <td>1</td>\n",
       "    </tr>\n",
       "    <tr>\n",
       "      <th>986</th>\n",
       "      <td>0.000000</td>\n",
       "      <td>0.001888</td>\n",
       "      <td>0.000000</td>\n",
       "      <td>0.000000</td>\n",
       "      <td>0.00000</td>\n",
       "      <td>0.000000</td>\n",
       "      <td>0.00</td>\n",
       "      <td>0.0</td>\n",
       "      <td>0</td>\n",
       "      <td>0.000000</td>\n",
       "      <td>0</td>\n",
       "    </tr>\n",
       "    <tr>\n",
       "      <th>10386</th>\n",
       "      <td>0.074074</td>\n",
       "      <td>0.011798</td>\n",
       "      <td>0.012821</td>\n",
       "      <td>0.000000</td>\n",
       "      <td>0.00000</td>\n",
       "      <td>0.166667</td>\n",
       "      <td>0.16</td>\n",
       "      <td>0.0</td>\n",
       "      <td>1</td>\n",
       "      <td>0.166667</td>\n",
       "      <td>1</td>\n",
       "    </tr>\n",
       "    <tr>\n",
       "      <th>2393</th>\n",
       "      <td>0.000000</td>\n",
       "      <td>0.004719</td>\n",
       "      <td>0.000000</td>\n",
       "      <td>0.000000</td>\n",
       "      <td>0.00000</td>\n",
       "      <td>0.000000</td>\n",
       "      <td>0.00</td>\n",
       "      <td>0.0</td>\n",
       "      <td>0</td>\n",
       "      <td>0.000000</td>\n",
       "      <td>0</td>\n",
       "    </tr>\n",
       "    <tr>\n",
       "      <th>2778</th>\n",
       "      <td>0.000000</td>\n",
       "      <td>0.006607</td>\n",
       "      <td>0.000000</td>\n",
       "      <td>0.000000</td>\n",
       "      <td>0.00000</td>\n",
       "      <td>0.000000</td>\n",
       "      <td>0.00</td>\n",
       "      <td>0.0</td>\n",
       "      <td>0</td>\n",
       "      <td>0.000000</td>\n",
       "      <td>0</td>\n",
       "    </tr>\n",
       "    <tr>\n",
       "      <th>1914</th>\n",
       "      <td>0.000000</td>\n",
       "      <td>0.003303</td>\n",
       "      <td>0.000000</td>\n",
       "      <td>0.000000</td>\n",
       "      <td>0.00000</td>\n",
       "      <td>0.000000</td>\n",
       "      <td>0.00</td>\n",
       "      <td>0.0</td>\n",
       "      <td>0</td>\n",
       "      <td>0.000000</td>\n",
       "      <td>0</td>\n",
       "    </tr>\n",
       "  </tbody>\n",
       "</table>\n",
       "</div>"
      ],
      "text/plain": [
       "       dot_count   url_len  digit_count  special_count  hyphen_count  \\\n",
       "254     0.037037  0.007079     0.000000       0.000000       0.00000   \n",
       "6447    0.148148  0.045776     0.034188       0.000000       0.09375   \n",
       "769     0.000000  0.001888     0.000000       0.000000       0.00000   \n",
       "875     0.000000  0.003303     0.001425       0.000000       0.00000   \n",
       "8771    0.111111  0.066069     0.058405       0.118644       0.03125   \n",
       "986     0.000000  0.001888     0.000000       0.000000       0.00000   \n",
       "10386   0.074074  0.011798     0.012821       0.000000       0.00000   \n",
       "2393    0.000000  0.004719     0.000000       0.000000       0.00000   \n",
       "2778    0.000000  0.006607     0.000000       0.000000       0.00000   \n",
       "1914    0.000000  0.003303     0.000000       0.000000       0.00000   \n",
       "\n",
       "       double_slash  single_slash  at_the_rate  protocol  protocol_count  \\\n",
       "254        0.000000          0.00          0.0         0        0.000000   \n",
       "6447       0.166667          0.20          0.0         1        0.166667   \n",
       "769        0.000000          0.00          0.0         0        0.000000   \n",
       "875        0.000000          0.00          0.0         0        0.000000   \n",
       "8771       0.166667          0.20          0.0         0        0.166667   \n",
       "986        0.000000          0.00          0.0         0        0.000000   \n",
       "10386      0.166667          0.16          0.0         1        0.166667   \n",
       "2393       0.000000          0.00          0.0         0        0.000000   \n",
       "2778       0.000000          0.00          0.0         0        0.000000   \n",
       "1914       0.000000          0.00          0.0         0        0.000000   \n",
       "\n",
       "       web_traffic  \n",
       "254              0  \n",
       "6447             1  \n",
       "769              0  \n",
       "875              0  \n",
       "8771             1  \n",
       "986              0  \n",
       "10386            1  \n",
       "2393             0  \n",
       "2778             0  \n",
       "1914             0  "
      ]
     },
     "execution_count": 70,
     "metadata": {},
     "output_type": "execute_result"
    }
   ],
   "source": [
    "X_train[:10]"
   ]
  },
  {
   "cell_type": "code",
   "execution_count": 71,
   "id": "0993bf68",
   "metadata": {},
   "outputs": [
    {
     "data": {
      "text/plain": [
       "254      1\n",
       "6447     0\n",
       "769      1\n",
       "875      1\n",
       "8771     0\n",
       "986      1\n",
       "10386    0\n",
       "2393     1\n",
       "2778     1\n",
       "1914     1\n",
       "Name: label, dtype: int64"
      ]
     },
     "execution_count": 71,
     "metadata": {},
     "output_type": "execute_result"
    }
   ],
   "source": [
    "y_train[:10]"
   ]
  },
  {
   "cell_type": "code",
   "execution_count": 72,
   "id": "c5d4a76b",
   "metadata": {},
   "outputs": [
    {
     "data": {
      "text/plain": [
       "11"
      ]
     },
     "execution_count": 72,
     "metadata": {},
     "output_type": "execute_result"
    }
   ],
   "source": [
    "len(X_train.columns)"
   ]
  },
  {
   "cell_type": "code",
   "execution_count": 73,
   "id": "c2a83ce8",
   "metadata": {},
   "outputs": [],
   "source": [
    "logdir = os.path.join(\"logs/fit\", datetime.datetime.now().strftime(\"%Y%m%d-%H%M%S\"))\n",
    "tensorboard_callback = tf.keras.callbacks.TensorBoard(logdir, histogram_freq=1)"
   ]
  },
  {
   "cell_type": "code",
   "execution_count": 74,
   "id": "d0cc11fe",
   "metadata": {},
   "outputs": [],
   "source": [
    "# Build a model (ANN) in tensorflow/keras"
   ]
  },
  {
   "cell_type": "code",
   "execution_count": 75,
   "id": "f44d67d5",
   "metadata": {},
   "outputs": [
    {
     "name": "stdout",
     "output_type": "stream",
     "text": [
      "Epoch 1/5\n",
      "  2/248 [..............................] - ETA: 53s - loss: 0.8739 - accuracy: 0.4062WARNING:tensorflow:Callbacks method `on_train_batch_end` is slow compared to the batch time (batch time: 0.0010s vs `on_train_batch_end` time: 0.4305s). Check your callbacks.\n",
      "248/248 [==============================] - 1s 3ms/step - loss: 0.5788 - accuracy: 0.7674 - val_loss: 0.4088 - val_accuracy: 0.9875\n",
      "Epoch 2/5\n",
      "248/248 [==============================] - 0s 1ms/step - loss: 0.3304 - accuracy: 0.9770 - val_loss: 0.2238 - val_accuracy: 0.9898\n",
      "Epoch 3/5\n",
      "248/248 [==============================] - 0s 862us/step - loss: 0.2109 - accuracy: 0.9793 - val_loss: 0.1366 - val_accuracy: 0.9898\n",
      "Epoch 4/5\n",
      "248/248 [==============================] - 0s 927us/step - loss: 0.1505 - accuracy: 0.9828 - val_loss: 0.0916 - val_accuracy: 0.9909\n",
      "Epoch 5/5\n",
      "248/248 [==============================] - 0s 873us/step - loss: 0.1201 - accuracy: 0.9869 - val_loss: 0.0660 - val_accuracy: 0.9943\n"
     ]
    },
    {
     "data": {
      "text/plain": [
       "<tensorflow.python.keras.callbacks.History at 0x1c92d030f40>"
      ]
     },
     "execution_count": 75,
     "metadata": {},
     "output_type": "execute_result"
    }
   ],
   "source": [
    "import tensorflow as tf\n",
    "from tensorflow import keras\n",
    "\n",
    "\n",
    "# model = keras.Sequential([\n",
    "#     keras.layers.Dense(11, input_shape=(11,), activation='relu'),\n",
    "#     keras.layers.Dropout(.5),\n",
    "#     keras.layers.Dense(1, activation='sigmoid')\n",
    "# ])\n",
    "\n",
    "# model = keras.Sequential([\n",
    "#     keras.layers.Flatten(),\n",
    "#     keras.layers.Dense(256, activation='relu'),\n",
    "#     keras.layers.Dropout(.1),\n",
    "#     keras.layers.Dense(2, activation=\"softmax\"),\n",
    "   \n",
    "# ])\n",
    "\n",
    "\n",
    "model = keras.Sequential([\n",
    "    keras.layers.Dense(11, input_shape=(11,), activation='relu'),\n",
    "    keras.layers.Dropout(.3),\n",
    "    keras.layers.Dense(1, activation='sigmoid')\n",
    "])\n",
    "\n",
    "\n",
    "\n",
    "# opt = keras.optimizers.Adam(learning_rate=0.01)\n",
    "\n",
    "model.compile(optimizer='adam',\n",
    "              loss='binary_crossentropy',\n",
    "              metrics=['accuracy'])\n",
    "\n",
    "model.fit(X_train, y_train, epochs=5, validation_split=0.1 , callbacks = [tensorboard_callback])"
   ]
  },
  {
   "cell_type": "code",
   "execution_count": 76,
   "id": "73926257",
   "metadata": {},
   "outputs": [
    {
     "name": "stdout",
     "output_type": "stream",
     "text": [
      "69/69 [==============================] - 0s 598us/step - loss: 0.0688 - accuracy: 0.9936\n"
     ]
    },
    {
     "data": {
      "text/plain": [
       "[0.06877440959215164, 0.9936363697052002]"
      ]
     },
     "execution_count": 76,
     "metadata": {},
     "output_type": "execute_result"
    }
   ],
   "source": [
    "model.evaluate(X_test, y_test)"
   ]
  },
  {
   "cell_type": "code",
   "execution_count": 77,
   "id": "ede05180",
   "metadata": {},
   "outputs": [
    {
     "data": {
      "text/plain": [
       "array([[0.01340193],\n",
       "       [0.01152334],\n",
       "       [0.9068066 ],\n",
       "       [0.89184594],\n",
       "       [0.90721273]], dtype=float32)"
      ]
     },
     "execution_count": 77,
     "metadata": {},
     "output_type": "execute_result"
    }
   ],
   "source": [
    "yp = model.predict(X_test)\n",
    "yp[:5]"
   ]
  },
  {
   "cell_type": "code",
   "execution_count": 78,
   "id": "1320adc5",
   "metadata": {},
   "outputs": [],
   "source": [
    "y_pred = []\n",
    "for element in yp:\n",
    "    if element > 0.5:\n",
    "        y_pred.append(1)\n",
    "    else:\n",
    "        y_pred.append(0)"
   ]
  },
  {
   "cell_type": "code",
   "execution_count": 79,
   "id": "aab30d50",
   "metadata": {},
   "outputs": [
    {
     "data": {
      "text/plain": [
       "[0, 0, 1, 1, 1, 1, 0, 0, 0, 0]"
      ]
     },
     "execution_count": 79,
     "metadata": {},
     "output_type": "execute_result"
    }
   ],
   "source": [
    "y_pred[:10]"
   ]
  },
  {
   "cell_type": "code",
   "execution_count": 80,
   "id": "b608c9d6",
   "metadata": {},
   "outputs": [
    {
     "data": {
      "text/plain": [
       "10830    0\n",
       "9034     0\n",
       "1076     1\n",
       "2673     1\n",
       "4649     1\n",
       "2613     1\n",
       "7888     0\n",
       "6853     0\n",
       "9361     0\n",
       "9121     0\n",
       "Name: label, dtype: int64"
      ]
     },
     "execution_count": 80,
     "metadata": {},
     "output_type": "execute_result"
    }
   ],
   "source": [
    "y_test[:10]"
   ]
  },
  {
   "cell_type": "code",
   "execution_count": 81,
   "id": "2c53a593",
   "metadata": {},
   "outputs": [
    {
     "name": "stdout",
     "output_type": "stream",
     "text": [
      "              precision    recall  f1-score   support\n",
      "\n",
      "           0       1.00      0.99      0.99      1094\n",
      "           1       0.99      1.00      0.99      1106\n",
      "\n",
      "    accuracy                           0.99      2200\n",
      "   macro avg       0.99      0.99      0.99      2200\n",
      "weighted avg       0.99      0.99      0.99      2200\n",
      "\n"
     ]
    }
   ],
   "source": [
    "#classificaion report statistical report on precision and recall ; plotting the performance of the overall model\n",
    "from sklearn.metrics import confusion_matrix , classification_report\n",
    "print(classification_report(y_test,y_pred))"
   ]
  },
  {
   "cell_type": "code",
   "execution_count": 82,
   "id": "188492f5",
   "metadata": {},
   "outputs": [
    {
     "data": {
      "text/plain": [
       "Text(69.0, 0.5, 'Truth')"
      ]
     },
     "execution_count": 82,
     "metadata": {},
     "output_type": "execute_result"
    },
    {
     "data": {
      "image/png": "[encoded data removed]",
      "text/plain": [
       "<Figure size 720x504 with 2 Axes>"
      ]
     },
     "metadata": {
      "needs_background": "light"
     },
     "output_type": "display_data"
    }
   ],
   "source": [
    "import seaborn as sn\n",
    "cm = tf.math.confusion_matrix(labels=y_test,predictions=y_pred)\n",
    "\n",
    "plt.figure(figsize = (10,7))\n",
    "sn.heatmap(cm, annot=True, fmt='d')\n",
    "plt.xlabel('Predicted')\n",
    "plt.ylabel('Truth')"
   ]
  },
  {
   "cell_type": "code",
   "execution_count": 83,
   "id": "a6ea179a",
   "metadata": {},
   "outputs": [
    {
     "name": "stdout",
     "output_type": "stream",
     "text": [
      "The tensorboard extension is already loaded. To reload it, use:\n",
      "  %reload_ext tensorboard\n"
     ]
    },
    {
     "data": {
      "text/plain": [
       "Reusing TensorBoard on port 9002 (pid 10564), started 0:00:56 ago. (Use '!kill 10564' to kill it.)"
      ]
     },
     "metadata": {},
     "output_type": "display_data"
    },
    {
     "data": {
      "text/html": [
       "\n",
       "      <iframe id=\"tensorboard-frame-1982cc6d24057379\" width=\"100%\" height=\"800\" frameborder=\"0\">\n",
       "      </iframe>\n",
       "      <script>\n",
       "        (function() {\n",
       "          const frame = document.getElementById(\"tensorboard-frame-1982cc6d24057379\");\n",
       "          const url = new URL(\"/\", window.location);\n",
       "          const port = 9002;\n",
       "          if (port) {\n",
       "            url.port = port;\n",
       "          }\n",
       "          frame.src = url;\n",
       "        })();\n",
       "      </script>\n",
       "    "
      ],
      "text/plain": [
       "<IPython.core.display.HTML object>"
      ]
     },
     "metadata": {},
     "output_type": "display_data"
    }
   ],
   "source": [
    "%load_ext tensorboard\n",
    "%tensorboard --logdir logs/fit --port 9002"
   ]
  },
  {
   "cell_type": "code",
   "execution_count": 84,
   "id": "78d9fa8a",
   "metadata": {},
   "outputs": [
    {
     "name": "stdout",
     "output_type": "stream",
     "text": [
      "Model: \"sequential_1\"\n",
      "_________________________________________________________________\n",
      "Layer (type)                 Output Shape              Param #   \n",
      "=================================================================\n",
      "dense_2 (Dense)              (None, 11)                132       \n",
      "_________________________________________________________________\n",
      "dropout_1 (Dropout)          (None, 11)                0         \n",
      "_________________________________________________________________\n",
      "dense_3 (Dense)              (None, 1)                 12        \n",
      "=================================================================\n",
      "Total params: 144\n",
      "Trainable params: 144\n",
      "Non-trainable params: 0\n",
      "_________________________________________________________________\n"
     ]
    }
   ],
   "source": [
    "model.summary()"
   ]
  },
  {
   "cell_type": "code",
   "execution_count": 85,
   "id": "5401987b",
   "metadata": {},
   "outputs": [
    {
     "data": {
      "text/plain": [
       "0.001"
      ]
     },
     "execution_count": 85,
     "metadata": {},
     "output_type": "execute_result"
    }
   ],
   "source": [
    "import tensorflow.keras.backend as K \n",
    "K.eval(model.optimizer.lr)"
   ]
  },
  {
   "cell_type": "code",
   "execution_count": null,
   "id": "328a6d17",
   "metadata": {},
   "outputs": [],
   "source": []
  }
 ],
 "metadata": {
  "kernelspec": {
   "display_name": "Python 3 (ipykernel)",
   "language": "python",
   "name": "python3"
  },
  "language_info": {
   "codemirror_mode": {
    "name": "ipython",
    "version": 3
   },
   "file_extension": ".py",
   "mimetype": "text/x-python",
   "name": "python",
   "nbconvert_exporter": "python",
   "pygments_lexer": "ipython3",
   "version": "3.8.11"
  }
 },
 "nbformat": 4,
 "nbformat_minor": 5
}
